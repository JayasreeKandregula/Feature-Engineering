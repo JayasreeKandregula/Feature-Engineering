{
 "cells": [
  {
   "cell_type": "markdown",
   "id": "d94f4070",
   "metadata": {},
   "source": [
    "#### Feature Engineering"
   ]
  },
  {
   "cell_type": "markdown",
   "id": "90ac7b0a",
   "metadata": {},
   "source": [
    "Handling missing values in the data set - Caused due to technical errors, privacy concerns, human errors.\n",
    "\n",
    "We know that machine learning algorithms use some input data to produce results. But quite often, the data you’ve been given might not be enough for designing a good machine learning model. That’s where the power of feature engineering comes into play.\n",
    "\n",
    "Goals:\n",
    "\n",
    "Preparing the proper input dataset, compatible with the machine learning algorithm requirements\n",
    "\n",
    "Improving the performance of machine learning models\n",
    "\n",
    "7 Techniques of feature engineering:\n",
    "\n",
    "    1. Imputation\n",
    "    2. Handling Outliers\n",
    "    3. Binning\n",
    "    4. Log Transform\n",
    "    5. One-Hot Encoding\n",
    "    6. Grouping Operations\n",
    "    7. Scaling\n"
   ]
  },
  {
   "cell_type": "markdown",
   "id": "f3c5acff",
   "metadata": {},
   "source": [
    "#### Types of missing Data\n",
    "\n",
    "\n",
    "  Before proceeding to feature the missing values, we have to know the type of data that is missing to perform a specific technique on the data set.\n",
    "  \n",
    "  \n",
    "  1. Missing completely at Random (MCAR):  data are missing is independent of the observed and unobserved data.\n",
    "  2. Missing at Random (MAR):  data are missing is dependent of the observed and but not on unobserved data.\n",
    "  3. Missing Not at Random (MNAR):  data are missing is dependent of the unobserved data."
   ]
  },
  {
   "cell_type": "markdown",
   "id": "f7be43fd",
   "metadata": {},
   "source": [
    "#### Techniques for continuous values\n",
    "\n",
    "1. Mean median mode replacement\n",
    "2. Random sample Imputation\n",
    "3. Capturning NAN values with a new feature\n",
    "4. End of distribution imputation\n",
    "5. Arbitary imputation\n",
    "6. Frequent categories imputation"
   ]
  },
  {
   "cell_type": "markdown",
   "id": "a94346df",
   "metadata": {},
   "source": [
    "#### Mean - median - mode Imputation\n",
    "\n",
    "Replace the missing values with mean/median/mode - MCAR"
   ]
  },
  {
   "cell_type": "code",
   "execution_count": 75,
   "id": "68eec929",
   "metadata": {},
   "outputs": [
    {
     "data": {
      "text/html": [
       "<div>\n",
       "<style scoped>\n",
       "    .dataframe tbody tr th:only-of-type {\n",
       "        vertical-align: middle;\n",
       "    }\n",
       "\n",
       "    .dataframe tbody tr th {\n",
       "        vertical-align: top;\n",
       "    }\n",
       "\n",
       "    .dataframe thead th {\n",
       "        text-align: right;\n",
       "    }\n",
       "</style>\n",
       "<table border=\"1\" class=\"dataframe\">\n",
       "  <thead>\n",
       "    <tr style=\"text-align: right;\">\n",
       "      <th></th>\n",
       "      <th>PassengerId</th>\n",
       "      <th>Survived</th>\n",
       "      <th>Pclass</th>\n",
       "      <th>Name</th>\n",
       "      <th>Sex</th>\n",
       "      <th>Age</th>\n",
       "      <th>SibSp</th>\n",
       "      <th>Parch</th>\n",
       "      <th>Ticket</th>\n",
       "      <th>Fare</th>\n",
       "      <th>Cabin</th>\n",
       "      <th>Embarked</th>\n",
       "    </tr>\n",
       "  </thead>\n",
       "  <tbody>\n",
       "    <tr>\n",
       "      <th>0</th>\n",
       "      <td>1</td>\n",
       "      <td>0</td>\n",
       "      <td>3</td>\n",
       "      <td>Braund, Mr. Owen Harris</td>\n",
       "      <td>male</td>\n",
       "      <td>22.0</td>\n",
       "      <td>1</td>\n",
       "      <td>0</td>\n",
       "      <td>A/5 21171</td>\n",
       "      <td>7.2500</td>\n",
       "      <td>NaN</td>\n",
       "      <td>S</td>\n",
       "    </tr>\n",
       "    <tr>\n",
       "      <th>1</th>\n",
       "      <td>2</td>\n",
       "      <td>1</td>\n",
       "      <td>1</td>\n",
       "      <td>Cumings, Mrs. John Bradley (Florence Briggs Th...</td>\n",
       "      <td>female</td>\n",
       "      <td>38.0</td>\n",
       "      <td>1</td>\n",
       "      <td>0</td>\n",
       "      <td>PC 17599</td>\n",
       "      <td>71.2833</td>\n",
       "      <td>C85</td>\n",
       "      <td>C</td>\n",
       "    </tr>\n",
       "    <tr>\n",
       "      <th>2</th>\n",
       "      <td>3</td>\n",
       "      <td>1</td>\n",
       "      <td>3</td>\n",
       "      <td>Heikkinen, Miss. Laina</td>\n",
       "      <td>female</td>\n",
       "      <td>26.0</td>\n",
       "      <td>0</td>\n",
       "      <td>0</td>\n",
       "      <td>STON/O2. 3101282</td>\n",
       "      <td>7.9250</td>\n",
       "      <td>NaN</td>\n",
       "      <td>S</td>\n",
       "    </tr>\n",
       "    <tr>\n",
       "      <th>3</th>\n",
       "      <td>4</td>\n",
       "      <td>1</td>\n",
       "      <td>1</td>\n",
       "      <td>Futrelle, Mrs. Jacques Heath (Lily May Peel)</td>\n",
       "      <td>female</td>\n",
       "      <td>35.0</td>\n",
       "      <td>1</td>\n",
       "      <td>0</td>\n",
       "      <td>113803</td>\n",
       "      <td>53.1000</td>\n",
       "      <td>C123</td>\n",
       "      <td>S</td>\n",
       "    </tr>\n",
       "    <tr>\n",
       "      <th>4</th>\n",
       "      <td>5</td>\n",
       "      <td>0</td>\n",
       "      <td>3</td>\n",
       "      <td>Allen, Mr. William Henry</td>\n",
       "      <td>male</td>\n",
       "      <td>35.0</td>\n",
       "      <td>0</td>\n",
       "      <td>0</td>\n",
       "      <td>373450</td>\n",
       "      <td>8.0500</td>\n",
       "      <td>NaN</td>\n",
       "      <td>S</td>\n",
       "    </tr>\n",
       "  </tbody>\n",
       "</table>\n",
       "</div>"
      ],
      "text/plain": [
       "   PassengerId  Survived  Pclass  \\\n",
       "0            1         0       3   \n",
       "1            2         1       1   \n",
       "2            3         1       3   \n",
       "3            4         1       1   \n",
       "4            5         0       3   \n",
       "\n",
       "                                                Name     Sex   Age  SibSp  \\\n",
       "0                            Braund, Mr. Owen Harris    male  22.0      1   \n",
       "1  Cumings, Mrs. John Bradley (Florence Briggs Th...  female  38.0      1   \n",
       "2                             Heikkinen, Miss. Laina  female  26.0      0   \n",
       "3       Futrelle, Mrs. Jacques Heath (Lily May Peel)  female  35.0      1   \n",
       "4                           Allen, Mr. William Henry    male  35.0      0   \n",
       "\n",
       "   Parch            Ticket     Fare Cabin Embarked  \n",
       "0      0         A/5 21171   7.2500   NaN        S  \n",
       "1      0          PC 17599  71.2833   C85        C  \n",
       "2      0  STON/O2. 3101282   7.9250   NaN        S  \n",
       "3      0            113803  53.1000  C123        S  \n",
       "4      0            373450   8.0500   NaN        S  "
      ]
     },
     "execution_count": 75,
     "metadata": {},
     "output_type": "execute_result"
    }
   ],
   "source": [
    "import pandas as pd\n",
    "import numpy as np\n",
    "import matplotlib.pyplot as plt\n",
    "import seaborn as sns\n",
    "df = pd.read_csv('train.csv')\n",
    "df.head()"
   ]
  },
  {
   "cell_type": "code",
   "execution_count": 23,
   "id": "6ea07fbd",
   "metadata": {},
   "outputs": [
    {
     "data": {
      "text/plain": [
       "PassengerId      0\n",
       "Survived         0\n",
       "Pclass           0\n",
       "Name             0\n",
       "Sex              0\n",
       "Age            177\n",
       "SibSp            0\n",
       "Parch            0\n",
       "Ticket           0\n",
       "Fare             0\n",
       "Cabin          687\n",
       "Embarked         2\n",
       "dtype: int64"
      ]
     },
     "execution_count": 23,
     "metadata": {},
     "output_type": "execute_result"
    }
   ],
   "source": [
    "df.isnull().sum()"
   ]
  },
  {
   "cell_type": "code",
   "execution_count": 52,
   "id": "bfa13007",
   "metadata": {},
   "outputs": [
    {
     "data": {
      "text/html": [
       "<div>\n",
       "<style scoped>\n",
       "    .dataframe tbody tr th:only-of-type {\n",
       "        vertical-align: middle;\n",
       "    }\n",
       "\n",
       "    .dataframe tbody tr th {\n",
       "        vertical-align: top;\n",
       "    }\n",
       "\n",
       "    .dataframe thead th {\n",
       "        text-align: right;\n",
       "    }\n",
       "</style>\n",
       "<table border=\"1\" class=\"dataframe\">\n",
       "  <thead>\n",
       "    <tr style=\"text-align: right;\">\n",
       "      <th></th>\n",
       "      <th>Survived</th>\n",
       "      <th>Age</th>\n",
       "      <th>Fare</th>\n",
       "    </tr>\n",
       "  </thead>\n",
       "  <tbody>\n",
       "    <tr>\n",
       "      <th>0</th>\n",
       "      <td>0</td>\n",
       "      <td>22.0</td>\n",
       "      <td>7.2500</td>\n",
       "    </tr>\n",
       "    <tr>\n",
       "      <th>1</th>\n",
       "      <td>1</td>\n",
       "      <td>38.0</td>\n",
       "      <td>71.2833</td>\n",
       "    </tr>\n",
       "    <tr>\n",
       "      <th>2</th>\n",
       "      <td>1</td>\n",
       "      <td>26.0</td>\n",
       "      <td>7.9250</td>\n",
       "    </tr>\n",
       "    <tr>\n",
       "      <th>3</th>\n",
       "      <td>1</td>\n",
       "      <td>35.0</td>\n",
       "      <td>53.1000</td>\n",
       "    </tr>\n",
       "    <tr>\n",
       "      <th>4</th>\n",
       "      <td>0</td>\n",
       "      <td>35.0</td>\n",
       "      <td>8.0500</td>\n",
       "    </tr>\n",
       "    <tr>\n",
       "      <th>...</th>\n",
       "      <td>...</td>\n",
       "      <td>...</td>\n",
       "      <td>...</td>\n",
       "    </tr>\n",
       "    <tr>\n",
       "      <th>886</th>\n",
       "      <td>0</td>\n",
       "      <td>27.0</td>\n",
       "      <td>13.0000</td>\n",
       "    </tr>\n",
       "    <tr>\n",
       "      <th>887</th>\n",
       "      <td>1</td>\n",
       "      <td>19.0</td>\n",
       "      <td>30.0000</td>\n",
       "    </tr>\n",
       "    <tr>\n",
       "      <th>888</th>\n",
       "      <td>0</td>\n",
       "      <td>NaN</td>\n",
       "      <td>23.4500</td>\n",
       "    </tr>\n",
       "    <tr>\n",
       "      <th>889</th>\n",
       "      <td>1</td>\n",
       "      <td>26.0</td>\n",
       "      <td>30.0000</td>\n",
       "    </tr>\n",
       "    <tr>\n",
       "      <th>890</th>\n",
       "      <td>0</td>\n",
       "      <td>32.0</td>\n",
       "      <td>7.7500</td>\n",
       "    </tr>\n",
       "  </tbody>\n",
       "</table>\n",
       "<p>891 rows × 3 columns</p>\n",
       "</div>"
      ],
      "text/plain": [
       "     Survived   Age     Fare\n",
       "0           0  22.0   7.2500\n",
       "1           1  38.0  71.2833\n",
       "2           1  26.0   7.9250\n",
       "3           1  35.0  53.1000\n",
       "4           0  35.0   8.0500\n",
       "..        ...   ...      ...\n",
       "886         0  27.0  13.0000\n",
       "887         1  19.0  30.0000\n",
       "888         0   NaN  23.4500\n",
       "889         1  26.0  30.0000\n",
       "890         0  32.0   7.7500\n",
       "\n",
       "[891 rows x 3 columns]"
      ]
     },
     "execution_count": 52,
     "metadata": {},
     "output_type": "execute_result"
    }
   ],
   "source": [
    "df1 = pd.read_csv('train.csv', usecols = ['Age', 'Survived', 'Fare'])\n",
    "df1"
   ]
  },
  {
   "cell_type": "code",
   "execution_count": 34,
   "id": "bb63b834",
   "metadata": {},
   "outputs": [
    {
     "data": {
      "text/plain": [
       "34.0"
      ]
     },
     "execution_count": 34,
     "metadata": {},
     "output_type": "execute_result"
    }
   ],
   "source": [
    "df1['Age'][99]"
   ]
  },
  {
   "cell_type": "code",
   "execution_count": 6,
   "id": "4bf7890b",
   "metadata": {},
   "outputs": [
    {
     "name": "stdout",
     "output_type": "stream",
     "text": [
      "29.69911764705882 28.0 0    24.0\n",
      "dtype: float64\n"
     ]
    }
   ],
   "source": [
    "median = df1['Age'].median()\n",
    "mean = df1['Age'].mean()\n",
    "mode = df1['Age'].mode()\n",
    "print(mean, median, mode)"
   ]
  },
  {
   "cell_type": "code",
   "execution_count": 25,
   "id": "c45839a0",
   "metadata": {},
   "outputs": [],
   "source": [
    "def imputate_nan(data, variable, median):\n",
    "    data[variable+'_median'] = data[variable].fillna(median)\n",
    "    #or data[variable].fillna(median) or np.where(data[variable].isnull(), median,data[variable])"
   ]
  },
  {
   "cell_type": "code",
   "execution_count": 26,
   "id": "3c1b1efa",
   "metadata": {},
   "outputs": [
    {
     "data": {
      "text/plain": [
       "Survived      0.000000\n",
       "Age           0.198653\n",
       "Fare          0.000000\n",
       "Age_median    0.000000\n",
       "dtype: float64"
      ]
     },
     "execution_count": 26,
     "metadata": {},
     "output_type": "execute_result"
    }
   ],
   "source": [
    "#calculate missing values percentages\n",
    "df1.isnull().mean()"
   ]
  },
  {
   "cell_type": "code",
   "execution_count": 40,
   "id": "f1b9e9ac",
   "metadata": {},
   "outputs": [
    {
     "data": {
      "text/plain": [
       "Survived      0.000000\n",
       "Age           0.198653\n",
       "Fare          0.000000\n",
       "Age_median    0.000000\n",
       "dtype: float64"
      ]
     },
     "execution_count": 40,
     "metadata": {},
     "output_type": "execute_result"
    }
   ],
   "source": [
    "imputate_nan(df1, 'Age', median)\n",
    "df1.isnull().mean()"
   ]
  },
  {
   "cell_type": "code",
   "execution_count": 28,
   "id": "2f59a902",
   "metadata": {},
   "outputs": [
    {
     "data": {
      "text/plain": [
       "14.526497332334044"
      ]
     },
     "execution_count": 28,
     "metadata": {},
     "output_type": "execute_result"
    }
   ],
   "source": [
    "df1['Age'].std()"
   ]
  },
  {
   "cell_type": "code",
   "execution_count": 39,
   "id": "f88540a2",
   "metadata": {},
   "outputs": [
    {
     "data": {
      "text/plain": [
       "29.36158249158249"
      ]
     },
     "execution_count": 39,
     "metadata": {},
     "output_type": "execute_result"
    }
   ],
   "source": [
    "df1['Age_median'].mean()\n",
    "#There is slight difference in the SD, ie.., std of median < std of Age implies median curve is fit than orginal curve"
   ]
  },
  {
   "cell_type": "code",
   "execution_count": 37,
   "id": "7dac250a",
   "metadata": {},
   "outputs": [
    {
     "data": {
      "image/png": "[encoded data removed]",
      "text/plain": [
       "<Figure size 432x288 with 1 Axes>"
      ]
     },
     "metadata": {
      "needs_background": "light"
     },
     "output_type": "display_data"
    }
   ],
   "source": [
    "df1['Age'].plot(kind='kde', label='Age')\n",
    "df1['Age_median'].plot(kind='kde', label='Age')\n",
    "plt.show()"
   ]
  },
  {
   "cell_type": "markdown",
   "id": "326f6c27",
   "metadata": {},
   "source": [
    "1. Adv: Easy to implement, faster to obtain the complete data set.\n",
    "2. Disadv: There is distortion in the variance or std."
   ]
  },
  {
   "cell_type": "markdown",
   "id": "380446c6",
   "metadata": {},
   "source": [
    "#### Random sample Replacement\n",
    "Taking a random value from the data set and replace the null values with the random value. (MCAR)\n"
   ]
  },
  {
   "cell_type": "code",
   "execution_count": 36,
   "id": "41d0e567",
   "metadata": {},
   "outputs": [
    {
     "data": {
      "text/plain": [
       "Int64Index([423, 177, 305, 292, 889, 595, 637,  54, 456, 110,\n",
       "            ...\n",
       "            179,  24, 630, 458,  49, 539, 267, 352,  99, 689],\n",
       "           dtype='int64', length=177)"
      ]
     },
     "execution_count": 36,
     "metadata": {},
     "output_type": "execute_result"
    }
   ],
   "source": [
    "df1['Age'].dropna().sample(df1['Age'].isnull().sum(), random_state = 0).index"
   ]
  },
  {
   "cell_type": "code",
   "execution_count": 53,
   "id": "28a6612c",
   "metadata": {},
   "outputs": [],
   "source": [
    "def imputate_nan(data, variable, median):\n",
    "    data[variable+'_median'] = data[variable].fillna(median)\n",
    "    data[variable+'_random'] = data[variable]\n",
    "    random_sample_list = data[variable].dropna().sample(data[variable].isnull().sum(), random_state = 0)\n",
    "    random_sample_list.index = data[data[variable].isnull()].index\n",
    "    data.loc[data[variable].isnull(), variable+'_random'] = random_sample_list"
   ]
  },
  {
   "cell_type": "code",
   "execution_count": 54,
   "id": "c30b3ffb",
   "metadata": {},
   "outputs": [],
   "source": [
    "imputate_nan(df1, 'Age', median)"
   ]
  },
  {
   "cell_type": "code",
   "execution_count": 62,
   "id": "1b57cc5a",
   "metadata": {},
   "outputs": [
    {
     "data": {
      "image/png": "[encoded data removed]",
      "text/plain": [
       "<Figure size 432x288 with 1 Axes>"
      ]
     },
     "metadata": {
      "needs_background": "light"
     },
     "output_type": "display_data"
    }
   ],
   "source": [
    "df1['Age'].plot(kind = 'kde',color='red', label='Age')\n",
    "df1['Age_median'].plot(kind = 'kde',color='blue', label ='Age median')\n",
    "df1['Age_random'].plot(kind = 'kde',color='green', label ='Age random')\n",
    "plt.show()"
   ]
  },
  {
   "cell_type": "markdown",
   "id": "ded6ade8",
   "metadata": {},
   "source": [
    "Advantages: \n",
    "1. Easy to implement\n",
    "2. Less distortion \n",
    "\n",
    "Disadvantages: \n",
    "1. Not applicable for all the datasets."
   ]
  },
  {
   "cell_type": "markdown",
   "id": "e6731e7e",
   "metadata": {},
   "source": [
    "#### Capturing NAN with a new feature\n",
    "\n",
    "MNAR - When we have to capture the missing values."
   ]
  },
  {
   "cell_type": "code",
   "execution_count": 66,
   "id": "821f0444",
   "metadata": {},
   "outputs": [],
   "source": [
    "def impute_nan_capture(df, variable, median):\n",
    "    df[variable+'_capture'] = np.where(df[variable].isnull(),1,0)\n",
    "    df[variable].fillna(median, inplace=True)"
   ]
  },
  {
   "cell_type": "code",
   "execution_count": 67,
   "id": "4086a056",
   "metadata": {},
   "outputs": [
    {
     "data": {
      "text/html": [
       "<div>\n",
       "<style scoped>\n",
       "    .dataframe tbody tr th:only-of-type {\n",
       "        vertical-align: middle;\n",
       "    }\n",
       "\n",
       "    .dataframe tbody tr th {\n",
       "        vertical-align: top;\n",
       "    }\n",
       "\n",
       "    .dataframe thead th {\n",
       "        text-align: right;\n",
       "    }\n",
       "</style>\n",
       "<table border=\"1\" class=\"dataframe\">\n",
       "  <thead>\n",
       "    <tr style=\"text-align: right;\">\n",
       "      <th></th>\n",
       "      <th>Survived</th>\n",
       "      <th>Age</th>\n",
       "      <th>Age_capture</th>\n",
       "    </tr>\n",
       "  </thead>\n",
       "  <tbody>\n",
       "    <tr>\n",
       "      <th>0</th>\n",
       "      <td>0</td>\n",
       "      <td>22.0</td>\n",
       "      <td>0</td>\n",
       "    </tr>\n",
       "    <tr>\n",
       "      <th>1</th>\n",
       "      <td>1</td>\n",
       "      <td>38.0</td>\n",
       "      <td>0</td>\n",
       "    </tr>\n",
       "    <tr>\n",
       "      <th>2</th>\n",
       "      <td>1</td>\n",
       "      <td>26.0</td>\n",
       "      <td>0</td>\n",
       "    </tr>\n",
       "    <tr>\n",
       "      <th>3</th>\n",
       "      <td>1</td>\n",
       "      <td>35.0</td>\n",
       "      <td>0</td>\n",
       "    </tr>\n",
       "    <tr>\n",
       "      <th>4</th>\n",
       "      <td>0</td>\n",
       "      <td>35.0</td>\n",
       "      <td>0</td>\n",
       "    </tr>\n",
       "    <tr>\n",
       "      <th>5</th>\n",
       "      <td>0</td>\n",
       "      <td>28.0</td>\n",
       "      <td>1</td>\n",
       "    </tr>\n",
       "    <tr>\n",
       "      <th>6</th>\n",
       "      <td>0</td>\n",
       "      <td>54.0</td>\n",
       "      <td>0</td>\n",
       "    </tr>\n",
       "    <tr>\n",
       "      <th>7</th>\n",
       "      <td>0</td>\n",
       "      <td>2.0</td>\n",
       "      <td>0</td>\n",
       "    </tr>\n",
       "    <tr>\n",
       "      <th>8</th>\n",
       "      <td>1</td>\n",
       "      <td>27.0</td>\n",
       "      <td>0</td>\n",
       "    </tr>\n",
       "    <tr>\n",
       "      <th>9</th>\n",
       "      <td>1</td>\n",
       "      <td>14.0</td>\n",
       "      <td>0</td>\n",
       "    </tr>\n",
       "  </tbody>\n",
       "</table>\n",
       "</div>"
      ],
      "text/plain": [
       "   Survived   Age  Age_capture\n",
       "0         0  22.0            0\n",
       "1         1  38.0            0\n",
       "2         1  26.0            0\n",
       "3         1  35.0            0\n",
       "4         0  35.0            0\n",
       "5         0  28.0            1\n",
       "6         0  54.0            0\n",
       "7         0   2.0            0\n",
       "8         1  27.0            0\n",
       "9         1  14.0            0"
      ]
     },
     "execution_count": 67,
     "metadata": {},
     "output_type": "execute_result"
    }
   ],
   "source": [
    "df2 = pd.read_csv('train.csv', usecols=['Age', 'Survived'])\n",
    "impute_nan_capture(df2, 'Age', df2['Age'].median())\n",
    "df2.head(10)"
   ]
  },
  {
   "cell_type": "markdown",
   "id": "a08eb538",
   "metadata": {},
   "source": [
    "Advantages:\n",
    "1. Easy to implement\n",
    "2. Capturing the missing values\n",
    "\n",
    "Disadvantages:\n",
    "1. Curse of dimensionality - creating additional features."
   ]
  },
  {
   "cell_type": "markdown",
   "id": "35adad56",
   "metadata": {},
   "source": [
    "#### End of Distribution \n",
    "\n",
    "If there is suspicion that the missing value is not at random then capturing that information is important. In this scenario, one would want to replace missing data with values that are at the tails of the distribution of the variable. MNAR"
   ]
  },
  {
   "cell_type": "code",
   "execution_count": 68,
   "id": "15606fe2",
   "metadata": {},
   "outputs": [],
   "source": [
    "df3 = pd.read_csv('train.csv', usecols=['Age', 'Survived'])"
   ]
  },
  {
   "cell_type": "code",
   "execution_count": 70,
   "id": "860dab58",
   "metadata": {},
   "outputs": [
    {
     "data": {
      "text/plain": [
       "<AxesSubplot:>"
      ]
     },
     "execution_count": 70,
     "metadata": {},
     "output_type": "execute_result"
    },
    {
     "data": {
      "image/png": "[encoded data removed]",
      "text/plain": [
       "<Figure size 432x288 with 1 Axes>"
      ]
     },
     "metadata": {
      "needs_background": "light"
     },
     "output_type": "display_data"
    }
   ],
   "source": [
    "df3['Age'].hist(bins=20)"
   ]
  },
  {
   "cell_type": "code",
   "execution_count": 93,
   "id": "4bca08c2",
   "metadata": {},
   "outputs": [
    {
     "data": {
      "text/plain": [
       "<AxesSubplot:xlabel='Age'>"
      ]
     },
     "execution_count": 93,
     "metadata": {},
     "output_type": "execute_result"
    },
    {
     "data": {
      "image/png": "[encoded data removed]",
      "text/plain": [
       "<Figure size 432x288 with 1 Axes>"
      ]
     },
     "metadata": {
      "needs_background": "light"
     },
     "output_type": "display_data"
    }
   ],
   "source": [
    "extreme = df3['Age'].mean()+3*df3['Age'].std()\n",
    "extreme\n",
    "sns.boxplot(x='Age',data=df3)"
   ]
  },
  {
   "cell_type": "code",
   "execution_count": 74,
   "id": "9dc31fd2",
   "metadata": {},
   "outputs": [],
   "source": [
    "def impute_nan_eod(df, variable, extreme):\n",
    "    df[variable+'_dis'] =df[variable].fillna(extreme)\n",
    "    df[variable].fillna(df[variable].median(), inplace=True)\n"
   ]
  },
  {
   "cell_type": "code",
   "execution_count": 78,
   "id": "78a739f3",
   "metadata": {},
   "outputs": [],
   "source": [
    "impute_nan_eod(df3, 'Age', extreme)"
   ]
  },
  {
   "cell_type": "code",
   "execution_count": 86,
   "id": "63e11cc8",
   "metadata": {},
   "outputs": [
    {
     "data": {
      "text/plain": [
       "<AxesSubplot:>"
      ]
     },
     "execution_count": 86,
     "metadata": {},
     "output_type": "execute_result"
    },
    {
     "data": {
      "image/png": "[encoded data removed]",
      "text/plain": [
       "<Figure size 432x288 with 1 Axes>"
      ]
     },
     "metadata": {
      "needs_background": "light"
     },
     "output_type": "display_data"
    }
   ],
   "source": [
    "df3['Age'].hist(bins=20)"
   ]
  },
  {
   "cell_type": "code",
   "execution_count": 87,
   "id": "a8ad2afc",
   "metadata": {},
   "outputs": [
    {
     "data": {
      "text/plain": [
       "<AxesSubplot:>"
      ]
     },
     "execution_count": 87,
     "metadata": {},
     "output_type": "execute_result"
    },
    {
     "data": {
      "image/png": "[encoded data removed]",
      "text/plain": [
       "<Figure size 432x288 with 1 Axes>"
      ]
     },
     "metadata": {
      "needs_background": "light"
     },
     "output_type": "display_data"
    }
   ],
   "source": [
    "df3['Age_dis'].hist(bins=20)"
   ]
  },
  {
   "cell_type": "code",
   "execution_count": 90,
   "id": "a99ff518",
   "metadata": {},
   "outputs": [
    {
     "data": {
      "text/plain": [
       "<AxesSubplot:xlabel='Age'>"
      ]
     },
     "execution_count": 90,
     "metadata": {},
     "output_type": "execute_result"
    },
    {
     "data": {
      "image/png": "[encoded data removed]",
      "text/plain": [
       "<Figure size 432x288 with 1 Axes>"
      ]
     },
     "metadata": {
      "needs_background": "light"
     },
     "output_type": "display_data"
    }
   ],
   "source": [
    "sns.boxplot(x='Age', data=df3)"
   ]
  },
  {
   "cell_type": "code",
   "execution_count": 89,
   "id": "3c61f27b",
   "metadata": {},
   "outputs": [
    {
     "data": {
      "text/plain": [
       "<AxesSubplot:xlabel='Age_dis'>"
      ]
     },
     "execution_count": 89,
     "metadata": {},
     "output_type": "execute_result"
    },
    {
     "data": {
      "image/png": "[encoded data removed]",
      "text/plain": [
       "<Figure size 432x288 with 1 Axes>"
      ]
     },
     "metadata": {
      "needs_background": "light"
     },
     "output_type": "display_data"
    }
   ],
   "source": [
    "sns.boxplot(x='Age_dis', data=df3)"
   ]
  },
  {
   "cell_type": "markdown",
   "id": "25adbb2d",
   "metadata": {},
   "source": [
    "Even the outliers are captured with this end of distribution imputation\n",
    "\n",
    "captures the missing values.\n",
    "\n",
    "Disadv: \n",
    "\n",
    "1. If missingness is not important, then it might mask predictive power of orginal variable because of large distortion"
   ]
  },
  {
   "cell_type": "markdown",
   "id": "c9df94f3",
   "metadata": {},
   "source": [
    "#### Arbitary value Imputation \n",
    "\n",
    "Replace NAN values with a arbitary value. Take out of boundary values either the least or max outlier."
   ]
  },
  {
   "cell_type": "code",
   "execution_count": 94,
   "id": "907607bb",
   "metadata": {},
   "outputs": [],
   "source": [
    "def impute_arbitary(df, variable):\n",
    "    df[variable+ '_arbitary_hund'] = df[variable].fillna(100)\n",
    "    df[variable+'_arbitary_zero'] = df[variable].fillna(0)"
   ]
  },
  {
   "cell_type": "code",
   "execution_count": 95,
   "id": "a05d8e12",
   "metadata": {},
   "outputs": [],
   "source": [
    "df4 = pd.read_csv('train.csv', usecols=['Age', 'Fare'])\n",
    "impute_arbitary(df4, 'Age')"
   ]
  },
  {
   "cell_type": "code",
   "execution_count": 96,
   "id": "4001fd2c",
   "metadata": {},
   "outputs": [
    {
     "data": {
      "text/html": [
       "<div>\n",
       "<style scoped>\n",
       "    .dataframe tbody tr th:only-of-type {\n",
       "        vertical-align: middle;\n",
       "    }\n",
       "\n",
       "    .dataframe tbody tr th {\n",
       "        vertical-align: top;\n",
       "    }\n",
       "\n",
       "    .dataframe thead th {\n",
       "        text-align: right;\n",
       "    }\n",
       "</style>\n",
       "<table border=\"1\" class=\"dataframe\">\n",
       "  <thead>\n",
       "    <tr style=\"text-align: right;\">\n",
       "      <th></th>\n",
       "      <th>Age</th>\n",
       "      <th>Fare</th>\n",
       "      <th>Age_arbitary_hund</th>\n",
       "      <th>Age_arbitary_zero</th>\n",
       "    </tr>\n",
       "  </thead>\n",
       "  <tbody>\n",
       "    <tr>\n",
       "      <th>0</th>\n",
       "      <td>22.0</td>\n",
       "      <td>7.2500</td>\n",
       "      <td>22.0</td>\n",
       "      <td>22.0</td>\n",
       "    </tr>\n",
       "    <tr>\n",
       "      <th>1</th>\n",
       "      <td>38.0</td>\n",
       "      <td>71.2833</td>\n",
       "      <td>38.0</td>\n",
       "      <td>38.0</td>\n",
       "    </tr>\n",
       "    <tr>\n",
       "      <th>2</th>\n",
       "      <td>26.0</td>\n",
       "      <td>7.9250</td>\n",
       "      <td>26.0</td>\n",
       "      <td>26.0</td>\n",
       "    </tr>\n",
       "    <tr>\n",
       "      <th>3</th>\n",
       "      <td>35.0</td>\n",
       "      <td>53.1000</td>\n",
       "      <td>35.0</td>\n",
       "      <td>35.0</td>\n",
       "    </tr>\n",
       "    <tr>\n",
       "      <th>4</th>\n",
       "      <td>35.0</td>\n",
       "      <td>8.0500</td>\n",
       "      <td>35.0</td>\n",
       "      <td>35.0</td>\n",
       "    </tr>\n",
       "    <tr>\n",
       "      <th>5</th>\n",
       "      <td>NaN</td>\n",
       "      <td>8.4583</td>\n",
       "      <td>100.0</td>\n",
       "      <td>0.0</td>\n",
       "    </tr>\n",
       "    <tr>\n",
       "      <th>6</th>\n",
       "      <td>54.0</td>\n",
       "      <td>51.8625</td>\n",
       "      <td>54.0</td>\n",
       "      <td>54.0</td>\n",
       "    </tr>\n",
       "    <tr>\n",
       "      <th>7</th>\n",
       "      <td>2.0</td>\n",
       "      <td>21.0750</td>\n",
       "      <td>2.0</td>\n",
       "      <td>2.0</td>\n",
       "    </tr>\n",
       "    <tr>\n",
       "      <th>8</th>\n",
       "      <td>27.0</td>\n",
       "      <td>11.1333</td>\n",
       "      <td>27.0</td>\n",
       "      <td>27.0</td>\n",
       "    </tr>\n",
       "    <tr>\n",
       "      <th>9</th>\n",
       "      <td>14.0</td>\n",
       "      <td>30.0708</td>\n",
       "      <td>14.0</td>\n",
       "      <td>14.0</td>\n",
       "    </tr>\n",
       "  </tbody>\n",
       "</table>\n",
       "</div>"
      ],
      "text/plain": [
       "    Age     Fare  Age_arbitary_hund  Age_arbitary_zero\n",
       "0  22.0   7.2500               22.0               22.0\n",
       "1  38.0  71.2833               38.0               38.0\n",
       "2  26.0   7.9250               26.0               26.0\n",
       "3  35.0  53.1000               35.0               35.0\n",
       "4  35.0   8.0500               35.0               35.0\n",
       "5   NaN   8.4583              100.0                0.0\n",
       "6  54.0  51.8625               54.0               54.0\n",
       "7   2.0  21.0750                2.0                2.0\n",
       "8  27.0  11.1333               27.0               27.0\n",
       "9  14.0  30.0708               14.0               14.0"
      ]
     },
     "execution_count": 96,
     "metadata": {},
     "output_type": "execute_result"
    }
   ],
   "source": [
    "df4.head(10)"
   ]
  },
  {
   "cell_type": "code",
   "execution_count": 97,
   "id": "13265de9",
   "metadata": {},
   "outputs": [
    {
     "data": {
      "text/plain": [
       "<AxesSubplot:xlabel='Age_arbitary_hund'>"
      ]
     },
     "execution_count": 97,
     "metadata": {},
     "output_type": "execute_result"
    },
    {
     "data": {
      "image/png": "[encoded data removed]",
      "text/plain": [
       "<Figure size 432x288 with 1 Axes>"
      ]
     },
     "metadata": {
      "needs_background": "light"
     },
     "output_type": "display_data"
    }
   ],
   "source": [
    "sns.boxplot(x='Age_arbitary_hund', data=df4)"
   ]
  },
  {
   "cell_type": "code",
   "execution_count": 98,
   "id": "a431d9d3",
   "metadata": {},
   "outputs": [
    {
     "data": {
      "text/plain": [
       "<AxesSubplot:xlabel='Age_arbitary_zero'>"
      ]
     },
     "execution_count": 98,
     "metadata": {},
     "output_type": "execute_result"
    },
    {
     "data": {
      "image/png": "[encoded data removed]",
      "text/plain": [
       "<Figure size 432x288 with 1 Axes>"
      ]
     },
     "metadata": {
      "needs_background": "light"
     },
     "output_type": "display_data"
    }
   ],
   "source": [
    "sns.boxplot(x='Age_arbitary_zero', data=df4)"
   ]
  },
  {
   "cell_type": "code",
   "execution_count": 100,
   "id": "f36655a0",
   "metadata": {},
   "outputs": [
    {
     "data": {
      "text/plain": [
       "<AxesSubplot:>"
      ]
     },
     "execution_count": 100,
     "metadata": {},
     "output_type": "execute_result"
    },
    {
     "data": {
      "image/png": "[encoded data removed]",
      "text/plain": [
       "<Figure size 432x288 with 1 Axes>"
      ]
     },
     "metadata": {
      "needs_background": "light"
     },
     "output_type": "display_data"
    }
   ],
   "source": [
    "df4['Age_arbitary_hund'].hist(bins=20)"
   ]
  },
  {
   "cell_type": "markdown",
   "id": "0f55d942",
   "metadata": {},
   "source": [
    "Adv: Easy to implement, capture the missing values.\n",
    "Disadv: Distortion of orginal features."
   ]
  },
  {
   "cell_type": "code",
   "execution_count": null,
   "id": "783e9091",
   "metadata": {},
   "outputs": [],
   "source": []
  }
 ],
 "metadata": {
  "kernelspec": {
   "display_name": "Python 3",
   "language": "python",
   "name": "python3"
  },
  "language_info": {
   "codemirror_mode": {
    "name": "ipython",
    "version": 3
   },
   "file_extension": ".py",
   "mimetype": "text/x-python",
   "name": "python",
   "nbconvert_exporter": "python",
   "pygments_lexer": "ipython3",
   "version": "3.8.8"
  }
 },
 "nbformat": 4,
 "nbformat_minor": 5
}
